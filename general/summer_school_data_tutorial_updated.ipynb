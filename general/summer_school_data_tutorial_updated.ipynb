{
  "cells": [
    {
      "cell_type": "markdown",
      "metadata": {
        "id": "view-in-github",
        "colab_type": "text"
      },
      "source": [
        "<a href=\"https://colab.research.google.com/github/aaudreyryan/summer-school-mf/blob/main/general/summer_school_data_tutorial_updated.ipynb\" target=\"_parent\"><img src=\"https://colab.research.google.com/assets/colab-badge.svg\" alt=\"Open In Colab\"/></a>"
      ]
    },
    {
      "cell_type": "markdown",
      "metadata": {
        "id": "__Y4pqvXUsg0"
      },
      "source": [
        "# Crucible Tutorial\n"
      ]
    },
    {
      "cell_type": "markdown",
      "metadata": {
        "id": "OCDbZ9ny44Y4"
      },
      "source": [
        "## Part 1: Setup\n",
        "- Install the crucible python client\n",
        "- Import packages\n",
        "- Retrieve your personal Crucible API key\n",
        "- Initialize your client"
      ]
    },
    {
      "cell_type": "markdown",
      "metadata": {
        "id": "RBDo9mng5HP7"
      },
      "source": [
        "#### Install the client from GitHub"
      ]
    },
    {
      "cell_type": "code",
      "execution_count": 1,
      "metadata": {
        "id": "pK7EG7WzU948",
        "outputId": "35f0ff0b-5396-41a2-d2b5-aa948937a9e1",
        "colab": {
          "base_uri": "https://localhost:8080/"
        }
      },
      "outputs": [
        {
          "output_type": "stream",
          "name": "stdout",
          "text": [
            "Collecting git+https://github.com/MolecularFoundryCrucible/pycrucible.git\n",
            "  Cloning https://github.com/MolecularFoundryCrucible/pycrucible.git to /tmp/pip-req-build-uridrb0i\n",
            "  Running command git clone --filter=blob:none --quiet https://github.com/MolecularFoundryCrucible/pycrucible.git /tmp/pip-req-build-uridrb0i\n",
            "  Resolved https://github.com/MolecularFoundryCrucible/pycrucible.git to commit 3c40d6f4c3079e8a261a23ca5937e4a8b7c37ce9\n",
            "  Preparing metadata (setup.py) ... \u001b[?25l\u001b[?25hdone\n",
            "Requirement already satisfied: requests>=2.25.0 in /usr/local/lib/python3.12/dist-packages (from pycrucible==1.0.0) (2.32.3)\n",
            "Requirement already satisfied: pytz>=2021.1 in /usr/local/lib/python3.12/dist-packages (from pycrucible==1.0.0) (2025.2)\n",
            "Requirement already satisfied: ipywidgets in /usr/local/lib/python3.12/dist-packages (from pycrucible==1.0.0) (7.7.1)\n",
            "Requirement already satisfied: charset-normalizer<4,>=2 in /usr/local/lib/python3.12/dist-packages (from requests>=2.25.0->pycrucible==1.0.0) (3.4.3)\n",
            "Requirement already satisfied: idna<4,>=2.5 in /usr/local/lib/python3.12/dist-packages (from requests>=2.25.0->pycrucible==1.0.0) (3.10)\n",
            "Requirement already satisfied: urllib3<3,>=1.21.1 in /usr/local/lib/python3.12/dist-packages (from requests>=2.25.0->pycrucible==1.0.0) (2.5.0)\n",
            "Requirement already satisfied: certifi>=2017.4.17 in /usr/local/lib/python3.12/dist-packages (from requests>=2.25.0->pycrucible==1.0.0) (2025.8.3)\n",
            "Requirement already satisfied: ipykernel>=4.5.1 in /usr/local/lib/python3.12/dist-packages (from ipywidgets->pycrucible==1.0.0) (6.17.1)\n",
            "Requirement already satisfied: ipython-genutils~=0.2.0 in /usr/local/lib/python3.12/dist-packages (from ipywidgets->pycrucible==1.0.0) (0.2.0)\n",
            "Requirement already satisfied: traitlets>=4.3.1 in /usr/local/lib/python3.12/dist-packages (from ipywidgets->pycrucible==1.0.0) (5.7.1)\n",
            "Requirement already satisfied: widgetsnbextension~=3.6.0 in /usr/local/lib/python3.12/dist-packages (from ipywidgets->pycrucible==1.0.0) (3.6.10)\n",
            "Requirement already satisfied: ipython>=4.0.0 in /usr/local/lib/python3.12/dist-packages (from ipywidgets->pycrucible==1.0.0) (7.34.0)\n",
            "Requirement already satisfied: jupyterlab-widgets>=1.0.0 in /usr/local/lib/python3.12/dist-packages (from ipywidgets->pycrucible==1.0.0) (3.0.15)\n",
            "Requirement already satisfied: debugpy>=1.0 in /usr/local/lib/python3.12/dist-packages (from ipykernel>=4.5.1->ipywidgets->pycrucible==1.0.0) (1.8.15)\n",
            "Requirement already satisfied: jupyter-client>=6.1.12 in /usr/local/lib/python3.12/dist-packages (from ipykernel>=4.5.1->ipywidgets->pycrucible==1.0.0) (6.1.12)\n",
            "Requirement already satisfied: matplotlib-inline>=0.1 in /usr/local/lib/python3.12/dist-packages (from ipykernel>=4.5.1->ipywidgets->pycrucible==1.0.0) (0.1.7)\n",
            "Requirement already satisfied: nest-asyncio in /usr/local/lib/python3.12/dist-packages (from ipykernel>=4.5.1->ipywidgets->pycrucible==1.0.0) (1.6.0)\n",
            "Requirement already satisfied: packaging in /usr/local/lib/python3.12/dist-packages (from ipykernel>=4.5.1->ipywidgets->pycrucible==1.0.0) (25.0)\n",
            "Requirement already satisfied: psutil in /usr/local/lib/python3.12/dist-packages (from ipykernel>=4.5.1->ipywidgets->pycrucible==1.0.0) (5.9.5)\n",
            "Requirement already satisfied: pyzmq>=17 in /usr/local/lib/python3.12/dist-packages (from ipykernel>=4.5.1->ipywidgets->pycrucible==1.0.0) (26.2.1)\n",
            "Requirement already satisfied: tornado>=6.1 in /usr/local/lib/python3.12/dist-packages (from ipykernel>=4.5.1->ipywidgets->pycrucible==1.0.0) (6.4.2)\n",
            "Requirement already satisfied: setuptools>=18.5 in /usr/local/lib/python3.12/dist-packages (from ipython>=4.0.0->ipywidgets->pycrucible==1.0.0) (75.2.0)\n",
            "Collecting jedi>=0.16 (from ipython>=4.0.0->ipywidgets->pycrucible==1.0.0)\n",
            "  Downloading jedi-0.19.2-py2.py3-none-any.whl.metadata (22 kB)\n",
            "Requirement already satisfied: decorator in /usr/local/lib/python3.12/dist-packages (from ipython>=4.0.0->ipywidgets->pycrucible==1.0.0) (4.4.2)\n",
            "Requirement already satisfied: pickleshare in /usr/local/lib/python3.12/dist-packages (from ipython>=4.0.0->ipywidgets->pycrucible==1.0.0) (0.7.5)\n",
            "Requirement already satisfied: prompt-toolkit!=3.0.0,!=3.0.1,<3.1.0,>=2.0.0 in /usr/local/lib/python3.12/dist-packages (from ipython>=4.0.0->ipywidgets->pycrucible==1.0.0) (3.0.51)\n",
            "Requirement already satisfied: pygments in /usr/local/lib/python3.12/dist-packages (from ipython>=4.0.0->ipywidgets->pycrucible==1.0.0) (2.19.2)\n",
            "Requirement already satisfied: backcall in /usr/local/lib/python3.12/dist-packages (from ipython>=4.0.0->ipywidgets->pycrucible==1.0.0) (0.2.0)\n",
            "Requirement already satisfied: pexpect>4.3 in /usr/local/lib/python3.12/dist-packages (from ipython>=4.0.0->ipywidgets->pycrucible==1.0.0) (4.9.0)\n",
            "Requirement already satisfied: notebook>=4.4.1 in /usr/local/lib/python3.12/dist-packages (from widgetsnbextension~=3.6.0->ipywidgets->pycrucible==1.0.0) (6.5.7)\n",
            "Requirement already satisfied: parso<0.9.0,>=0.8.4 in /usr/local/lib/python3.12/dist-packages (from jedi>=0.16->ipython>=4.0.0->ipywidgets->pycrucible==1.0.0) (0.8.4)\n",
            "Requirement already satisfied: jupyter-core>=4.6.0 in /usr/local/lib/python3.12/dist-packages (from jupyter-client>=6.1.12->ipykernel>=4.5.1->ipywidgets->pycrucible==1.0.0) (5.8.1)\n",
            "Requirement already satisfied: python-dateutil>=2.1 in /usr/local/lib/python3.12/dist-packages (from jupyter-client>=6.1.12->ipykernel>=4.5.1->ipywidgets->pycrucible==1.0.0) (2.9.0.post0)\n",
            "Requirement already satisfied: jinja2 in /usr/local/lib/python3.12/dist-packages (from notebook>=4.4.1->widgetsnbextension~=3.6.0->ipywidgets->pycrucible==1.0.0) (3.1.6)\n",
            "Requirement already satisfied: argon2-cffi in /usr/local/lib/python3.12/dist-packages (from notebook>=4.4.1->widgetsnbextension~=3.6.0->ipywidgets->pycrucible==1.0.0) (25.1.0)\n",
            "Requirement already satisfied: nbformat in /usr/local/lib/python3.12/dist-packages (from notebook>=4.4.1->widgetsnbextension~=3.6.0->ipywidgets->pycrucible==1.0.0) (5.10.4)\n",
            "Requirement already satisfied: nbconvert>=5 in /usr/local/lib/python3.12/dist-packages (from notebook>=4.4.1->widgetsnbextension~=3.6.0->ipywidgets->pycrucible==1.0.0) (7.16.6)\n",
            "Requirement already satisfied: Send2Trash>=1.8.0 in /usr/local/lib/python3.12/dist-packages (from notebook>=4.4.1->widgetsnbextension~=3.6.0->ipywidgets->pycrucible==1.0.0) (1.8.3)\n",
            "Requirement already satisfied: terminado>=0.8.3 in /usr/local/lib/python3.12/dist-packages (from notebook>=4.4.1->widgetsnbextension~=3.6.0->ipywidgets->pycrucible==1.0.0) (0.18.1)\n",
            "Requirement already satisfied: prometheus-client in /usr/local/lib/python3.12/dist-packages (from notebook>=4.4.1->widgetsnbextension~=3.6.0->ipywidgets->pycrucible==1.0.0) (0.22.1)\n",
            "Requirement already satisfied: nbclassic>=0.4.7 in /usr/local/lib/python3.12/dist-packages (from notebook>=4.4.1->widgetsnbextension~=3.6.0->ipywidgets->pycrucible==1.0.0) (1.3.1)\n",
            "Requirement already satisfied: ptyprocess>=0.5 in /usr/local/lib/python3.12/dist-packages (from pexpect>4.3->ipython>=4.0.0->ipywidgets->pycrucible==1.0.0) (0.7.0)\n",
            "Requirement already satisfied: wcwidth in /usr/local/lib/python3.12/dist-packages (from prompt-toolkit!=3.0.0,!=3.0.1,<3.1.0,>=2.0.0->ipython>=4.0.0->ipywidgets->pycrucible==1.0.0) (0.2.13)\n",
            "Requirement already satisfied: platformdirs>=2.5 in /usr/local/lib/python3.12/dist-packages (from jupyter-core>=4.6.0->jupyter-client>=6.1.12->ipykernel>=4.5.1->ipywidgets->pycrucible==1.0.0) (4.3.8)\n",
            "Requirement already satisfied: notebook-shim>=0.2.3 in /usr/local/lib/python3.12/dist-packages (from nbclassic>=0.4.7->notebook>=4.4.1->widgetsnbextension~=3.6.0->ipywidgets->pycrucible==1.0.0) (0.2.4)\n",
            "Requirement already satisfied: beautifulsoup4 in /usr/local/lib/python3.12/dist-packages (from nbconvert>=5->notebook>=4.4.1->widgetsnbextension~=3.6.0->ipywidgets->pycrucible==1.0.0) (4.13.4)\n",
            "Requirement already satisfied: bleach!=5.0.0 in /usr/local/lib/python3.12/dist-packages (from bleach[css]!=5.0.0->nbconvert>=5->notebook>=4.4.1->widgetsnbextension~=3.6.0->ipywidgets->pycrucible==1.0.0) (6.2.0)\n",
            "Requirement already satisfied: defusedxml in /usr/local/lib/python3.12/dist-packages (from nbconvert>=5->notebook>=4.4.1->widgetsnbextension~=3.6.0->ipywidgets->pycrucible==1.0.0) (0.7.1)\n",
            "Requirement already satisfied: jupyterlab-pygments in /usr/local/lib/python3.12/dist-packages (from nbconvert>=5->notebook>=4.4.1->widgetsnbextension~=3.6.0->ipywidgets->pycrucible==1.0.0) (0.3.0)\n",
            "Requirement already satisfied: markupsafe>=2.0 in /usr/local/lib/python3.12/dist-packages (from nbconvert>=5->notebook>=4.4.1->widgetsnbextension~=3.6.0->ipywidgets->pycrucible==1.0.0) (3.0.2)\n",
            "Requirement already satisfied: mistune<4,>=2.0.3 in /usr/local/lib/python3.12/dist-packages (from nbconvert>=5->notebook>=4.4.1->widgetsnbextension~=3.6.0->ipywidgets->pycrucible==1.0.0) (3.1.3)\n",
            "Requirement already satisfied: nbclient>=0.5.0 in /usr/local/lib/python3.12/dist-packages (from nbconvert>=5->notebook>=4.4.1->widgetsnbextension~=3.6.0->ipywidgets->pycrucible==1.0.0) (0.10.2)\n",
            "Requirement already satisfied: pandocfilters>=1.4.1 in /usr/local/lib/python3.12/dist-packages (from nbconvert>=5->notebook>=4.4.1->widgetsnbextension~=3.6.0->ipywidgets->pycrucible==1.0.0) (1.5.1)\n",
            "Requirement already satisfied: fastjsonschema>=2.15 in /usr/local/lib/python3.12/dist-packages (from nbformat->notebook>=4.4.1->widgetsnbextension~=3.6.0->ipywidgets->pycrucible==1.0.0) (2.21.2)\n",
            "Requirement already satisfied: jsonschema>=2.6 in /usr/local/lib/python3.12/dist-packages (from nbformat->notebook>=4.4.1->widgetsnbextension~=3.6.0->ipywidgets->pycrucible==1.0.0) (4.25.0)\n",
            "Requirement already satisfied: six>=1.5 in /usr/local/lib/python3.12/dist-packages (from python-dateutil>=2.1->jupyter-client>=6.1.12->ipykernel>=4.5.1->ipywidgets->pycrucible==1.0.0) (1.17.0)\n",
            "Requirement already satisfied: argon2-cffi-bindings in /usr/local/lib/python3.12/dist-packages (from argon2-cffi->notebook>=4.4.1->widgetsnbextension~=3.6.0->ipywidgets->pycrucible==1.0.0) (25.1.0)\n",
            "Requirement already satisfied: webencodings in /usr/local/lib/python3.12/dist-packages (from bleach!=5.0.0->bleach[css]!=5.0.0->nbconvert>=5->notebook>=4.4.1->widgetsnbextension~=3.6.0->ipywidgets->pycrucible==1.0.0) (0.5.1)\n",
            "Requirement already satisfied: tinycss2<1.5,>=1.1.0 in /usr/local/lib/python3.12/dist-packages (from bleach[css]!=5.0.0->nbconvert>=5->notebook>=4.4.1->widgetsnbextension~=3.6.0->ipywidgets->pycrucible==1.0.0) (1.4.0)\n",
            "Requirement already satisfied: attrs>=22.2.0 in /usr/local/lib/python3.12/dist-packages (from jsonschema>=2.6->nbformat->notebook>=4.4.1->widgetsnbextension~=3.6.0->ipywidgets->pycrucible==1.0.0) (25.3.0)\n",
            "Requirement already satisfied: jsonschema-specifications>=2023.03.6 in /usr/local/lib/python3.12/dist-packages (from jsonschema>=2.6->nbformat->notebook>=4.4.1->widgetsnbextension~=3.6.0->ipywidgets->pycrucible==1.0.0) (2025.4.1)\n",
            "Requirement already satisfied: referencing>=0.28.4 in /usr/local/lib/python3.12/dist-packages (from jsonschema>=2.6->nbformat->notebook>=4.4.1->widgetsnbextension~=3.6.0->ipywidgets->pycrucible==1.0.0) (0.36.2)\n",
            "Requirement already satisfied: rpds-py>=0.7.1 in /usr/local/lib/python3.12/dist-packages (from jsonschema>=2.6->nbformat->notebook>=4.4.1->widgetsnbextension~=3.6.0->ipywidgets->pycrucible==1.0.0) (0.27.0)\n",
            "Requirement already satisfied: jupyter-server<3,>=1.8 in /usr/local/lib/python3.12/dist-packages (from notebook-shim>=0.2.3->nbclassic>=0.4.7->notebook>=4.4.1->widgetsnbextension~=3.6.0->ipywidgets->pycrucible==1.0.0) (1.16.0)\n",
            "Requirement already satisfied: cffi>=1.0.1 in /usr/local/lib/python3.12/dist-packages (from argon2-cffi-bindings->argon2-cffi->notebook>=4.4.1->widgetsnbextension~=3.6.0->ipywidgets->pycrucible==1.0.0) (1.17.1)\n",
            "Requirement already satisfied: soupsieve>1.2 in /usr/local/lib/python3.12/dist-packages (from beautifulsoup4->nbconvert>=5->notebook>=4.4.1->widgetsnbextension~=3.6.0->ipywidgets->pycrucible==1.0.0) (2.7)\n",
            "Requirement already satisfied: typing-extensions>=4.0.0 in /usr/local/lib/python3.12/dist-packages (from beautifulsoup4->nbconvert>=5->notebook>=4.4.1->widgetsnbextension~=3.6.0->ipywidgets->pycrucible==1.0.0) (4.14.1)\n",
            "Requirement already satisfied: pycparser in /usr/local/lib/python3.12/dist-packages (from cffi>=1.0.1->argon2-cffi-bindings->argon2-cffi->notebook>=4.4.1->widgetsnbextension~=3.6.0->ipywidgets->pycrucible==1.0.0) (2.22)\n",
            "Requirement already satisfied: anyio>=3.1.0 in /usr/local/lib/python3.12/dist-packages (from jupyter-server<3,>=1.8->notebook-shim>=0.2.3->nbclassic>=0.4.7->notebook>=4.4.1->widgetsnbextension~=3.6.0->ipywidgets->pycrucible==1.0.0) (4.10.0)\n",
            "Requirement already satisfied: websocket-client in /usr/local/lib/python3.12/dist-packages (from jupyter-server<3,>=1.8->notebook-shim>=0.2.3->nbclassic>=0.4.7->notebook>=4.4.1->widgetsnbextension~=3.6.0->ipywidgets->pycrucible==1.0.0) (1.8.0)\n",
            "Requirement already satisfied: sniffio>=1.1 in /usr/local/lib/python3.12/dist-packages (from anyio>=3.1.0->jupyter-server<3,>=1.8->notebook-shim>=0.2.3->nbclassic>=0.4.7->notebook>=4.4.1->widgetsnbextension~=3.6.0->ipywidgets->pycrucible==1.0.0) (1.3.1)\n",
            "Downloading jedi-0.19.2-py2.py3-none-any.whl (1.6 MB)\n",
            "\u001b[2K   \u001b[90m━━━━━━━━━━━━━━━━━━━━━━━━━━━━━━━━━━━━━━━━\u001b[0m \u001b[32m1.6/1.6 MB\u001b[0m \u001b[31m14.3 MB/s\u001b[0m eta \u001b[36m0:00:00\u001b[0m\n",
            "\u001b[?25hBuilding wheels for collected packages: pycrucible\n",
            "  Building wheel for pycrucible (setup.py) ... \u001b[?25l\u001b[?25hdone\n",
            "  Created wheel for pycrucible: filename=pycrucible-1.0.0-py3-none-any.whl size=10800 sha256=e14a304febc79b55b55ee3f0264f6775508f0fb717b1314894a17e441c3d6212\n",
            "  Stored in directory: /tmp/pip-ephem-wheel-cache-nv7940vq/wheels/85/98/77/90925fca2e4ea8bff8b8414123ee1d2f3559a601d3dbdba414\n",
            "Successfully built pycrucible\n",
            "Installing collected packages: jedi, pycrucible\n",
            "Successfully installed jedi-0.19.2 pycrucible-1.0.0\n"
          ]
        }
      ],
      "source": [
        "!pip install git+https://github.com/MolecularFoundryCrucible/pycrucible.git"
      ]
    },
    {
      "cell_type": "markdown",
      "metadata": {
        "id": "z5kwj7Sb5L5A"
      },
      "source": [
        "#### Import packages"
      ]
    },
    {
      "cell_type": "code",
      "execution_count": 2,
      "metadata": {
        "id": "P1qADdHnUsg3"
      },
      "outputs": [],
      "source": [
        "import os\n",
        "import json\n",
        "import pprint\n",
        "import uuid\n",
        "from typing import List, Dict\n",
        "from datetime import datetime\n",
        "import h5py\n",
        "import numpy as np\n",
        "import matplotlib.pyplot as plt\n",
        "from PIL import Image\n",
        "from pathlib import Path\n",
        "import ipywidgets as widgets\n",
        "from IPython.display import display, clear_output\n",
        "import matplotlib.pyplot as plt\n",
        "\n",
        "from pycrucible import CrucibleClient, SecureInput"
      ]
    },
    {
      "cell_type": "markdown",
      "metadata": {
        "id": "LCeMlmoA5W_V"
      },
      "source": [
        "#### Retrieve your API key\n",
        "\n",
        "In your web browser navigate to https://crucible.lbl.gov/testapi/user_apikey.\n",
        "\n",
        "You will be prompted to login to your ORCID.  Login.\n",
        "\n",
        "Run the cell below and copy your resulting API key into the box!\n",
        "\n",
        "** note: If you do not have an ORCID you can easily create one here: https://orcid.org/register"
      ]
    },
    {
      "cell_type": "code",
      "execution_count": 3,
      "metadata": {
        "id": "CRinTqFl53wM",
        "outputId": "5a5334ba-cfae-465d-aeab-e0658dae2881",
        "colab": {
          "base_uri": "https://localhost:8080/",
          "height": 85,
          "referenced_widgets": [
            "ba86136a0d22404abd6ce5b3b6772ef0",
            "a8bbc68a32b4475b8df6140ed8fd7fae",
            "cdc6c875fb784eefa0d36086bc31b502",
            "fb3dbe49e41b4707bdfdce9d2c40a0f5",
            "87169c2dc5aa4cf1a3160cb38a381f81",
            "5f526d9e8fff44e08464ef7a2ea8f0ef",
            "e24cec5084f248f599a70ec7b5e5ad97",
            "9245702a4e8f4169b849defe2fa48008",
            "bc55a18aec9e4ef9a087f7442766cb27",
            "969f352264ac4dbf85697538633f87b0",
            "523d95129bf94213bce638739badccea",
            "f97f505af179433a8ae387a4df0cb554",
            "db466725d58740678ca38b386297008e"
          ]
        }
      },
      "outputs": [
        {
          "output_type": "display_data",
          "data": {
            "text/plain": [
              "VBox(children=(HTML(value='<b>Enter your API key:</b>'), Password(placeholder='Enter secret here', style=Descr…"
            ],
            "application/vnd.jupyter.widget-view+json": {
              "version_major": 2,
              "version_minor": 0,
              "model_id": "ba86136a0d22404abd6ce5b3b6772ef0"
            }
          },
          "metadata": {}
        },
        {
          "output_type": "execute_result",
          "data": {
            "text/plain": [
              "<pycrucible.pycrucible.SecureInput at 0x7801ff496120>"
            ]
          },
          "metadata": {},
          "execution_count": 3
        }
      ],
      "source": [
        "SecureInput(description = \"Enter your API key:\", var_name = 'CRUCIBLE_API_KEY')"
      ]
    },
    {
      "cell_type": "markdown",
      "metadata": {
        "id": "aJ-kL4_1Usg4"
      },
      "source": [
        "#### Initialize the client"
      ]
    },
    {
      "cell_type": "code",
      "execution_count": 4,
      "metadata": {
        "id": "lwleG71nUsg4",
        "outputId": "43bd48dc-2519-4418-a95b-4c76f0e25652",
        "colab": {
          "base_uri": "https://localhost:8080/"
        }
      },
      "outputs": [
        {
          "output_type": "stream",
          "name": "stdout",
          "text": [
            "Crucible client initialized successfully!\n"
          ]
        }
      ],
      "source": [
        "API_URL = \"https://crucible.lbl.gov/testapi\"\n",
        "API_KEY = os.environ.get(\"CRUCIBLE_API_KEY\")\n",
        "\n",
        "# Initialize the client\n",
        "client = CrucibleClient(API_URL, API_KEY)\n",
        "print(\"Crucible client initialized successfully!\")"
      ]
    },
    {
      "cell_type": "markdown",
      "metadata": {
        "id": "Ajyxgack6P7s",
        "jp-MarkdownHeadingCollapsed": true
      },
      "source": [
        "## Part 2: Use the client to work with a batch of perovskite data\n",
        "For this demo we will be using data generated for a batch of perovskite wafers generated by Yi-Ru.  The batch is named `S-pMeMBAI-pre-2` and has the unique id: `0t3h7ymbm5s27000z6tt82zvx4`\n",
        "\n"
      ]
    },
    {
      "cell_type": "markdown",
      "metadata": {
        "id": "0HKTnghd7VBs"
      },
      "source": [
        "##### Query the Data"
      ]
    },
    {
      "cell_type": "code",
      "execution_count": 5,
      "metadata": {
        "id": "V9PQoNS363gq"
      },
      "outputs": [],
      "source": [
        "# set the batch_id as a variable\n",
        "batch_id = '0t3h7ymbm5s27000z6tt82zvx4'"
      ]
    },
    {
      "cell_type": "code",
      "source": [
        "client.get_sample(batch_id)"
      ],
      "metadata": {
        "collapsed": true,
        "id": "wImHrtjurN6v",
        "outputId": "25fd7ee5-82e2-440d-d697-4b36a8b7e6d3",
        "colab": {
          "base_uri": "https://localhost:8080/"
        }
      },
      "execution_count": 6,
      "outputs": [
        {
          "output_type": "execute_result",
          "data": {
            "text/plain": [
              "{'id': 406,\n",
              " 'unique_id': '0t3h7ymbm5s27000z6tt82zvx4',\n",
              " 'sample_name': 'S-pMeMBAI-pre-2',\n",
              " 'owner_orcid': '0009-0007-5583-5602',\n",
              " 'date_created': None,\n",
              " 'description': 'yrliu98_S-pMeMBAI-pre-2_0t3h7ymbm5s27000z6tt82zvx4',\n",
              " 'datasets': [{'id': 88582,\n",
              "   'unique_id': '0t4tndsdqsxrb000jwjd070a68',\n",
              "   'dataset_name': 'yrliu98_S-pMeMBAI-pre-2_1_1_run3_spec_run'},\n",
              "  {'id': 88583,\n",
              "   'unique_id': '0t4tne0q1swpx000y49c2y78t4',\n",
              "   'dataset_name': 'yrliu98_S-pMeMBAI-pre-2_1_2_run1_spec_run'},\n",
              "  {'id': 88584,\n",
              "   'unique_id': '0t4tnhxxx9zhn0005mxgmgm0p8',\n",
              "   'dataset_name': 'yrliu98_S-pMeMBAI-pre-2_1_3_run1_spec_run'},\n",
              "  {'id': 88585,\n",
              "   'unique_id': '0t4tnj5hhnz6f0004qj397t3q4',\n",
              "   'dataset_name': 'yrliu98_S-pMeMBAI-pre-2_1_4_run1_spec_run'},\n",
              "  {'id': 88586,\n",
              "   'unique_id': '0t4tnjd0psta30000pwmaxby9w',\n",
              "   'dataset_name': 'yrliu98_S-pMeMBAI-pre-2_1_5_run1_spec_run'},\n",
              "  {'id': 88587,\n",
              "   'unique_id': '0t4tnjmf3swsv000p9z2qqnxcg',\n",
              "   'dataset_name': 'yrliu98_S-pMeMBAI-pre-2_1_6_run1_spec_run'},\n",
              "  {'id': 88588,\n",
              "   'unique_id': '0t4tnjvymsy1h0008n8nj6b9ar',\n",
              "   'dataset_name': 'yrliu98_S-pMeMBAI-pre-2_1_7_run1_spec_run'},\n",
              "  {'id': 88589,\n",
              "   'unique_id': '0t4tnk3h39vkh000jt25cbk71r',\n",
              "   'dataset_name': 'yrliu98_S-pMeMBAI-pre-2_1_9_run1_spec_run'},\n",
              "  {'id': 88590,\n",
              "   'unique_id': '0t4tnkawshrcz000235d01sxqw',\n",
              "   'dataset_name': 'yrliu98_S-pMeMBAI-pre-2_1_8_run1_spec_run'},\n",
              "  {'id': 88591,\n",
              "   'unique_id': '0t4wkf2peszpb000gs9peqgm2m',\n",
              "   'dataset_name': 'S-pMeMBAI-pre-photo-capture'},\n",
              "  {'id': 88606,\n",
              "   'unique_id': '0t4ysbg5ddskf0006a407jnqzc',\n",
              "   'dataset_name': 'yrliu98_S-pMeMBAI-pre-2_1_1_run3_spec_run'},\n",
              "  {'id': 88612,\n",
              "   'unique_id': '0t4ysvtgfht9b000jpxx9qc34g',\n",
              "   'dataset_name': 'yrliu98_S-pMeMBAI-pre-2_1_1_run3_spec_run'}]}"
            ]
          },
          "metadata": {},
          "execution_count": 6
        }
      ]
    },
    {
      "cell_type": "code",
      "execution_count": 7,
      "metadata": {
        "id": "Sg0goib666wS",
        "collapsed": true,
        "outputId": "721daa46-9e7b-441a-f841-9b06c6c93572",
        "colab": {
          "base_uri": "https://localhost:8080/"
        }
      },
      "outputs": [
        {
          "output_type": "execute_result",
          "data": {
            "text/plain": [
              "[{'id': 407,\n",
              "  'owner_orcid': '0009-0007-5583-5602',\n",
              "  'date_created': None,\n",
              "  'unique_id': '0t4tndz6pxz4b000dp2sfr75gw',\n",
              "  'sample_name': '1',\n",
              "  'owner_user_id': 6,\n",
              "  'description': None},\n",
              " {'id': 408,\n",
              "  'owner_orcid': '0009-0007-5583-5602',\n",
              "  'date_created': None,\n",
              "  'unique_id': '0t4tne5jsnsz7000qqxdg8m57g',\n",
              "  'sample_name': '2',\n",
              "  'owner_user_id': 6,\n",
              "  'description': None},\n",
              " {'id': 411,\n",
              "  'owner_orcid': '0009-0007-5583-5602',\n",
              "  'date_created': None,\n",
              "  'unique_id': '0t4tnjje2nr8d000dyhs9zy6cc',\n",
              "  'sample_name': '5',\n",
              "  'owner_user_id': 6,\n",
              "  'description': None},\n",
              " {'id': 414,\n",
              "  'owner_orcid': '0009-0007-5583-5602',\n",
              "  'date_created': None,\n",
              "  'unique_id': '0t4tnk8rxhww1000g5jd1datbw',\n",
              "  'sample_name': '9',\n",
              "  'owner_user_id': 6,\n",
              "  'description': None},\n",
              " {'id': 415,\n",
              "  'owner_orcid': '0009-0007-5583-5602',\n",
              "  'date_created': None,\n",
              "  'unique_id': '0t4tnkfvp9w470005acdwvm384',\n",
              "  'sample_name': '8',\n",
              "  'owner_user_id': 6,\n",
              "  'description': None},\n",
              " {'id': 454,\n",
              "  'owner_orcid': '0009-0007-5583-5602',\n",
              "  'date_created': None,\n",
              "  'unique_id': '0t4ysbr7vhzes0000kys7kzh74',\n",
              "  'sample_name': '1',\n",
              "  'owner_user_id': 6,\n",
              "  'description': None},\n",
              " {'id': 409,\n",
              "  'owner_orcid': '0009-0007-5583-5602',\n",
              "  'date_created': None,\n",
              "  'unique_id': '0t4tnj3q0dsmb0003cdvw9md0w',\n",
              "  'sample_name': '3',\n",
              "  'owner_user_id': 6,\n",
              "  'description': None},\n",
              " {'id': 410,\n",
              "  'owner_orcid': '0009-0007-5583-5602',\n",
              "  'date_created': None,\n",
              "  'unique_id': '0t4tnjavnhww5000kknaz03sg8',\n",
              "  'sample_name': '4',\n",
              "  'owner_user_id': 6,\n",
              "  'description': None},\n",
              " {'id': 412,\n",
              "  'owner_orcid': '0009-0007-5583-5602',\n",
              "  'date_created': None,\n",
              "  'unique_id': '0t4tnjsp0sr1n000zd8mpx3ep8',\n",
              "  'sample_name': '6',\n",
              "  'owner_user_id': 6,\n",
              "  'description': None},\n",
              " {'id': 413,\n",
              "  'owner_orcid': '0009-0007-5583-5602',\n",
              "  'date_created': None,\n",
              "  'unique_id': '0t4tnk199dvgq000887t4a4an4',\n",
              "  'sample_name': '7',\n",
              "  'owner_user_id': 6,\n",
              "  'description': None},\n",
              " {'id': 457,\n",
              "  'owner_orcid': '0009-0007-5583-5602',\n",
              "  'date_created': None,\n",
              "  'unique_id': '0t4ysw3g05sjh00090z674fh1m',\n",
              "  'sample_name': '1',\n",
              "  'owner_user_id': 6,\n",
              "  'description': None}]"
            ]
          },
          "metadata": {},
          "execution_count": 7
        }
      ],
      "source": [
        "# list all of the samples associated with this batch\n",
        "client.list_samples(parent_id = batch_id)"
      ]
    },
    {
      "cell_type": "code",
      "execution_count": 8,
      "metadata": {
        "id": "GNnX2tqV6-zS",
        "collapsed": true,
        "outputId": "5197a730-7ae4-42c5-9b96-f541f6d01db9",
        "colab": {
          "base_uri": "https://localhost:8080/"
        }
      },
      "outputs": [
        {
          "output_type": "stream",
          "name": "stdout",
          "text": [
            "There are 10 datasets associated with this batch\n",
            "The first dataset is:\n",
            "{'creation_time': '2025-07-11T17:13:22.380824',\n",
            " 'data_format': 'ScopeFoundryH5',\n",
            " 'dataset_name': 'yrliu98_S-pMeMBAI-pre-2_1_1_run3_spec_run',\n",
            " 'file_to_upload': 'api-uploads/drive/Shareddrives/robot summer '\n",
            "                   'school/summer-school-sample-data/cbox/yrliu98_S-pMeMBAI-pre-2_1_1_run3_spec_run.h5',\n",
            " 'id': 88582,\n",
            " 'instrument_id': 14,\n",
            " 'instrument_name': 'SpinBot',\n",
            " 'json_link': None,\n",
            " 'measurement': 'spec_run',\n",
            " 'owner_orcid': '0009-0001-9493-2006',\n",
            " 'owner_user_id': 1,\n",
            " 'project_id': 'MFUSER_yrliu98',\n",
            " 'public': True,\n",
            " 'session_name': 'S-pMeMBAI-pre-2',\n",
            " 'sha256_hash_file_to_upload': '3b4fc2c52f0a1b09634ac0c3cc7734de194fcb4365c4135603378d104227c7aa',\n",
            " 'size': 35926936,\n",
            " 'source_folder': 'C:/Users/lab/Documents/foundry_scope/SpinBot/Yi-Ru/S-pMeMBAI-pre-2',\n",
            " 'unique_id': '0t4tndsdqsxrb000jwjd070a68'}\n"
          ]
        }
      ],
      "source": [
        "# list all of the datasets associated with this batch\n",
        "batch_datasets = client.list_datasets(sample_id = batch_id)\n",
        "print(f\"There are {len(batch_datasets)} datasets associated with this batch\")\n",
        "print(\"The first dataset is:\")\n",
        "pprint.pprint(batch_datasets[0])"
      ]
    },
    {
      "cell_type": "markdown",
      "metadata": {
        "id": "wOwOJYSv7YUZ"
      },
      "source": [
        "##### Download data files\n",
        "\n",
        "After running the following cell, you can to navigate to the file system on the right by clicking the folder icon.  You should see a folder titled \"crucible_downloads\" that will contain all of the files you just downloaded."
      ]
    },
    {
      "cell_type": "code",
      "source": [
        "from joblib import Parallel, delayed\n",
        "import time\n",
        "stime = time.time()\n",
        "batch_datasets = client.list_datasets(sample_id = batch_id)\n",
        "\n",
        "num_cores = os.cpu_count()\n",
        "print(f'{num_cores=}')\n",
        "Parallel(n_jobs=num_cores)(delayed(client.download_dataset)(ds['unique_id'])for ds in batch_datasets)\n",
        "etime = time.time()\n",
        "print(f'Time taken: {etime-stime}')"
      ],
      "metadata": {
        "id": "IFRnziVD3nh2",
        "outputId": "0d147140-8027-4c49-b7e8-165cab5244cb",
        "colab": {
          "base_uri": "https://localhost:8080/"
        }
      },
      "execution_count": 13,
      "outputs": [
        {
          "output_type": "stream",
          "name": "stdout",
          "text": [
            "num_cores=2\n",
            "Time taken: 2.119436264038086\n"
          ]
        }
      ]
    },
    {
      "cell_type": "markdown",
      "metadata": {
        "id": "ZaLEaNny70iC"
      },
      "source": [
        "## Part 3: Working with ScopeFoundry hdf5 files"
      ]
    },
    {
      "cell_type": "markdown",
      "metadata": {
        "id": "8CLniWAa622z"
      },
      "source": [
        "### Open the file and get your bearings"
      ]
    },
    {
      "cell_type": "code",
      "execution_count": 14,
      "metadata": {
        "id": "K_5IvGWA622z"
      },
      "outputs": [],
      "source": [
        "# Choose a file to work with\n",
        "sample_file = '/content/crucible-downloads/yrliu98_S-pMeMBAI-pre-2_1_2_run1_spec_run.h5'"
      ]
    },
    {
      "cell_type": "code",
      "execution_count": 15,
      "metadata": {
        "id": "m6swDWG3622z",
        "outputId": "170beb0a-6c6c-4595-bd38-f833d2d9da69",
        "colab": {
          "base_uri": "https://localhost:8080/",
          "height": 507
        }
      },
      "outputs": [
        {
          "output_type": "error",
          "ename": "FileNotFoundError",
          "evalue": "[Errno 2] Unable to synchronously open file (unable to open file: name = '/content/crucible-downloads/yrliu98_S-pMeMBAI-pre-2_1_2_run1_spec_run.h5', errno = 2, error message = 'No such file or directory', flags = 0, o_flags = 0)",
          "traceback": [
            "\u001b[0;31m---------------------------------------------------------------------------\u001b[0m",
            "\u001b[0;31mFileNotFoundError\u001b[0m                         Traceback (most recent call last)",
            "\u001b[0;32m/tmp/ipython-input-1222887737.py\u001b[0m in \u001b[0;36m<cell line: 0>\u001b[0;34m()\u001b[0m\n\u001b[1;32m      1\u001b[0m \u001b[0;31m# Opening the file\u001b[0m\u001b[0;34m\u001b[0m\u001b[0;34m\u001b[0m\u001b[0m\n\u001b[0;32m----> 2\u001b[0;31m \u001b[0;32mwith\u001b[0m \u001b[0mh5py\u001b[0m\u001b[0;34m.\u001b[0m\u001b[0mFile\u001b[0m\u001b[0;34m(\u001b[0m\u001b[0msample_file\u001b[0m\u001b[0;34m,\u001b[0m \u001b[0;34m'r'\u001b[0m\u001b[0;34m)\u001b[0m \u001b[0;32mas\u001b[0m \u001b[0mf\u001b[0m\u001b[0;34m:\u001b[0m\u001b[0;34m\u001b[0m\u001b[0;34m\u001b[0m\u001b[0m\n\u001b[0m\u001b[1;32m      3\u001b[0m   \u001b[0;31m# groups within the file object\u001b[0m\u001b[0;34m\u001b[0m\u001b[0;34m\u001b[0m\u001b[0m\n\u001b[1;32m      4\u001b[0m   \u001b[0mprint\u001b[0m\u001b[0;34m(\u001b[0m\u001b[0mf\u001b[0m\u001b[0;34m.\u001b[0m\u001b[0mkeys\u001b[0m\u001b[0;34m(\u001b[0m\u001b[0;34m)\u001b[0m\u001b[0;34m)\u001b[0m\u001b[0;34m\u001b[0m\u001b[0;34m\u001b[0m\u001b[0m\n\u001b[1;32m      5\u001b[0m \u001b[0;34m\u001b[0m\u001b[0m\n",
            "\u001b[0;32m/usr/local/lib/python3.12/dist-packages/h5py/_hl/files.py\u001b[0m in \u001b[0;36m__init__\u001b[0;34m(self, name, mode, driver, libver, userblock_size, swmr, rdcc_nslots, rdcc_nbytes, rdcc_w0, track_order, fs_strategy, fs_persist, fs_threshold, fs_page_size, page_buf_size, min_meta_keep, min_raw_keep, locking, alignment_threshold, alignment_interval, meta_block_size, **kwds)\u001b[0m\n\u001b[1;32m    562\u001b[0m                                  \u001b[0mfs_persist\u001b[0m\u001b[0;34m=\u001b[0m\u001b[0mfs_persist\u001b[0m\u001b[0;34m,\u001b[0m \u001b[0mfs_threshold\u001b[0m\u001b[0;34m=\u001b[0m\u001b[0mfs_threshold\u001b[0m\u001b[0;34m,\u001b[0m\u001b[0;34m\u001b[0m\u001b[0;34m\u001b[0m\u001b[0m\n\u001b[1;32m    563\u001b[0m                                  fs_page_size=fs_page_size)\n\u001b[0;32m--> 564\u001b[0;31m                 \u001b[0mfid\u001b[0m \u001b[0;34m=\u001b[0m \u001b[0mmake_fid\u001b[0m\u001b[0;34m(\u001b[0m\u001b[0mname\u001b[0m\u001b[0;34m,\u001b[0m \u001b[0mmode\u001b[0m\u001b[0;34m,\u001b[0m \u001b[0muserblock_size\u001b[0m\u001b[0;34m,\u001b[0m \u001b[0mfapl\u001b[0m\u001b[0;34m,\u001b[0m \u001b[0mfcpl\u001b[0m\u001b[0;34m,\u001b[0m \u001b[0mswmr\u001b[0m\u001b[0;34m=\u001b[0m\u001b[0mswmr\u001b[0m\u001b[0;34m)\u001b[0m\u001b[0;34m\u001b[0m\u001b[0;34m\u001b[0m\u001b[0m\n\u001b[0m\u001b[1;32m    565\u001b[0m \u001b[0;34m\u001b[0m\u001b[0m\n\u001b[1;32m    566\u001b[0m             \u001b[0;32mif\u001b[0m \u001b[0misinstance\u001b[0m\u001b[0;34m(\u001b[0m\u001b[0mlibver\u001b[0m\u001b[0;34m,\u001b[0m \u001b[0mtuple\u001b[0m\u001b[0;34m)\u001b[0m\u001b[0;34m:\u001b[0m\u001b[0;34m\u001b[0m\u001b[0;34m\u001b[0m\u001b[0m\n",
            "\u001b[0;32m/usr/local/lib/python3.12/dist-packages/h5py/_hl/files.py\u001b[0m in \u001b[0;36mmake_fid\u001b[0;34m(name, mode, userblock_size, fapl, fcpl, swmr)\u001b[0m\n\u001b[1;32m    236\u001b[0m         \u001b[0;32mif\u001b[0m \u001b[0mswmr\u001b[0m \u001b[0;32mand\u001b[0m \u001b[0mswmr_support\u001b[0m\u001b[0;34m:\u001b[0m\u001b[0;34m\u001b[0m\u001b[0;34m\u001b[0m\u001b[0m\n\u001b[1;32m    237\u001b[0m             \u001b[0mflags\u001b[0m \u001b[0;34m|=\u001b[0m \u001b[0mh5f\u001b[0m\u001b[0;34m.\u001b[0m\u001b[0mACC_SWMR_READ\u001b[0m\u001b[0;34m\u001b[0m\u001b[0;34m\u001b[0m\u001b[0m\n\u001b[0;32m--> 238\u001b[0;31m         \u001b[0mfid\u001b[0m \u001b[0;34m=\u001b[0m \u001b[0mh5f\u001b[0m\u001b[0;34m.\u001b[0m\u001b[0mopen\u001b[0m\u001b[0;34m(\u001b[0m\u001b[0mname\u001b[0m\u001b[0;34m,\u001b[0m \u001b[0mflags\u001b[0m\u001b[0;34m,\u001b[0m \u001b[0mfapl\u001b[0m\u001b[0;34m=\u001b[0m\u001b[0mfapl\u001b[0m\u001b[0;34m)\u001b[0m\u001b[0;34m\u001b[0m\u001b[0;34m\u001b[0m\u001b[0m\n\u001b[0m\u001b[1;32m    239\u001b[0m     \u001b[0;32melif\u001b[0m \u001b[0mmode\u001b[0m \u001b[0;34m==\u001b[0m \u001b[0;34m'r+'\u001b[0m\u001b[0;34m:\u001b[0m\u001b[0;34m\u001b[0m\u001b[0;34m\u001b[0m\u001b[0m\n\u001b[1;32m    240\u001b[0m         \u001b[0mfid\u001b[0m \u001b[0;34m=\u001b[0m \u001b[0mh5f\u001b[0m\u001b[0;34m.\u001b[0m\u001b[0mopen\u001b[0m\u001b[0;34m(\u001b[0m\u001b[0mname\u001b[0m\u001b[0;34m,\u001b[0m \u001b[0mh5f\u001b[0m\u001b[0;34m.\u001b[0m\u001b[0mACC_RDWR\u001b[0m\u001b[0;34m,\u001b[0m \u001b[0mfapl\u001b[0m\u001b[0;34m=\u001b[0m\u001b[0mfapl\u001b[0m\u001b[0;34m)\u001b[0m\u001b[0;34m\u001b[0m\u001b[0;34m\u001b[0m\u001b[0m\n",
            "\u001b[0;32mh5py/_objects.pyx\u001b[0m in \u001b[0;36mh5py._objects.with_phil.wrapper\u001b[0;34m()\u001b[0m\n",
            "\u001b[0;32mh5py/_objects.pyx\u001b[0m in \u001b[0;36mh5py._objects.with_phil.wrapper\u001b[0;34m()\u001b[0m\n",
            "\u001b[0;32mh5py/h5f.pyx\u001b[0m in \u001b[0;36mh5py.h5f.open\u001b[0;34m()\u001b[0m\n",
            "\u001b[0;31mFileNotFoundError\u001b[0m: [Errno 2] Unable to synchronously open file (unable to open file: name = '/content/crucible-downloads/yrliu98_S-pMeMBAI-pre-2_1_2_run1_spec_run.h5', errno = 2, error message = 'No such file or directory', flags = 0, o_flags = 0)"
          ]
        }
      ],
      "source": [
        "# Opening the file\n",
        "with h5py.File(sample_file, 'r') as f:\n",
        "  # groups within the file object\n",
        "  print(f.keys())\n",
        "\n",
        "  # attributes of the file object (the file object is the \"root group\")\n",
        "  print(f.attrs.keys())\n",
        "\n",
        "  # every group has a name (the name is the key)\n",
        "  for group_name in f:\n",
        "    print(group_name)"
      ]
    },
    {
      "cell_type": "code",
      "execution_count": null,
      "metadata": {
        "id": "cFK80HUN622z"
      },
      "outputs": [],
      "source": [
        "# The App Group\n",
        "\n",
        "with h5py.File(sample_file, 'r') as f:\n",
        "  app = f['app']\n",
        "\n",
        "  # groups within the app group\n",
        "  print(list(app.keys()))\n",
        "\n",
        "  # attributes of the app group\n",
        "  print(list(app.attrs.keys()))\n",
        "\n",
        "  # print the settings group attributes for the app\n",
        "  print(\"\\n\\napp settings: \")\n",
        "  [print(k,v) for k,v in list(app['settings'].attrs.items())]"
      ]
    },
    {
      "cell_type": "code",
      "execution_count": null,
      "metadata": {
        "id": "UjmuXW-U622z"
      },
      "outputs": [],
      "source": [
        "# The Hardware Group\n",
        "\n",
        "with h5py.File(sample_file, 'r') as f:\n",
        "  hw = f['hardware']\n",
        "\n",
        "  # groups within the hw group\n",
        "  print(list(hw.keys()))\n",
        "\n",
        "  # attributes of the hw group\n",
        "  print(list(hw.attrs.keys()))"
      ]
    },
    {
      "cell_type": "code",
      "execution_count": null,
      "metadata": {
        "id": "73qvO3DS6220"
      },
      "outputs": [],
      "source": [
        "# The Measurement Group\n",
        "\n",
        "with h5py.File(sample_file, 'r') as f:\n",
        "  M = f['measurement']\n",
        "\n",
        "  # groups within the measurement group\n",
        "  print(list(M.keys()))\n",
        "\n",
        "  # attributes of the measurement group\n",
        "  print(list(M.attrs.keys()))\n",
        "\n",
        "  # Look at the measurement sub group\n",
        "  # Note that you can keep extending out key values for groups or use a file system like notation\n",
        "  print(list(f['measurement']['spec_run'].keys()))\n",
        "  print(list(f['measurement/spec_run'].keys()))\n",
        "\n",
        "  # Each of the values printed is a Dataset Object that can be accessed as a numpy array\n",
        "  arr = np.array(f['measurement/spec_run/wl_spectra'])\n",
        "  print(arr[0:2])"
      ]
    },
    {
      "cell_type": "markdown",
      "metadata": {
        "id": "S8pWckmd6220"
      },
      "source": [
        "### Recurse the file systematically with the ```visititems``` function.\n",
        "Instead of manually recursing the file, we can define a function and pass it to visititems which will recursively call the function on each of the objects in the h5file"
      ]
    },
    {
      "cell_type": "code",
      "execution_count": null,
      "metadata": {
        "id": "hDXBlM7l6220"
      },
      "outputs": [],
      "source": [
        "def explore_h5_structure(name, obj):\n",
        "    indent = \"  \" * name.count('/')\n",
        "    if isinstance(obj, h5py.Group):\n",
        "        print(f\"{indent}{name}/ (Group)\")\n",
        "    elif isinstance(obj, h5py.Dataset):\n",
        "        print(f\"{indent}{name} (Dataset) - Shape: {obj.shape}, Type: {obj.dtype}\")\n",
        "\n",
        "with h5py.File(sample_file, 'r') as f:\n",
        "    f.visititems(explore_h5_structure)\n"
      ]
    },
    {
      "cell_type": "markdown",
      "metadata": {
        "id": "0gyEdMmF6220"
      },
      "source": [
        "### Extract and plot the PL spectra"
      ]
    },
    {
      "cell_type": "code",
      "execution_count": null,
      "metadata": {
        "id": "L7GXcFEP6220"
      },
      "outputs": [],
      "source": [
        "with h5py.File(sample_file, 'r') as h5file:\n",
        "\n",
        "    # extract the corrected PL spectra as an array\n",
        "    pl_spectra = np.array(h5file['measurement/spec_run/pl_spectra_corrected'])\n",
        "\n",
        "    # determine how many spectra were collected\n",
        "    dims = pl_spectra.shape\n",
        "\n",
        "    # extract the wavelengths as an array\n",
        "    wavelengths = np.array(h5file['measurement/spec_run/pl_wls'])\n",
        "\n",
        "    # create the plot\n",
        "    fig, ax = plt.subplots(figsize=(10, 6))\n",
        "\n",
        "    # for each spectra, plot the line\n",
        "    for i in range(0, dims[0]):\n",
        "        ax.plot(wavelengths, pl_spectra[i], label=f\"Spectrum {i+1}\", linewidth=2, alpha=0.8)\n",
        "\n",
        "    # formatting\n",
        "    ax.set_xlabel('Wavelength (nm)', fontsize=12)\n",
        "    ax.set_ylabel('Intensity', fontsize=12)\n",
        "    ax.legend(bbox_to_anchor=(1.05, 1), loc='upper left')\n",
        "    ax.grid(True, alpha=0.3)\n",
        "    plt.tight_layout()"
      ]
    },
    {
      "cell_type": "markdown",
      "metadata": {
        "id": "XMhaYekF6220"
      },
      "source": [
        "### Extract and plot the UV-vis spectra"
      ]
    },
    {
      "cell_type": "code",
      "execution_count": null,
      "metadata": {
        "id": "QQ_n1beB6220"
      },
      "outputs": [],
      "source": [
        "with h5py.File(sample_file, 'r') as h5file:\n",
        "\n",
        "    # extract the corrected PL spectra as an array\n",
        "    wl_spectra = np.array(h5file['measurement/spec_run/wl_spectra_corrected'])\n",
        "\n",
        "    # determine how many spectra were collected\n",
        "    dims = wl_spectra.shape\n",
        "\n",
        "    # extract the wavelengths as an array\n",
        "    wavelengths = np.array(h5file['measurement/spec_run/wl_wls'])\n",
        "\n",
        "    # create the plot\n",
        "    fig, ax = plt.subplots(figsize=(10, 6))\n",
        "\n",
        "    # for each spectra, plot the line\n",
        "    for i in range(0, dims[0]):\n",
        "        ax.plot(wavelengths, wl_spectra[i], label=f\"Spectrum {i+1}\", linewidth=2, alpha=0.8)\n",
        "\n",
        "    # formatting\n",
        "    ax.set_xlabel('Wavelength (nm)', fontsize=12)\n",
        "    ax.set_ylabel('Intensity', fontsize=12)\n",
        "    ax.set_ylim(0,1)\n",
        "    ax.legend(bbox_to_anchor=(1.05, 1), loc='upper left')\n",
        "    ax.grid(True, alpha=0.3)\n",
        "    plt.tight_layout()"
      ]
    },
    {
      "cell_type": "code",
      "source": [
        "with h5py.File(sample_file, 'r') as h5file:\n",
        "\n",
        "    # extract the corrected PL spectra as an array\n",
        "    wl_spectra = np.array(h5file['measurement/spec_run/wl_ref_spectrum'])\n",
        "    # determine how many spectra were collected\n",
        "    dims = wl_spectra.shape\n",
        "\n",
        "    # extract the wavelengths as an array\n",
        "    wavelengths = np.array(h5file['measurement/spec_run/wl_wls'])\n",
        "\n",
        "    # create the plot\n",
        "    fig, ax = plt.subplots(figsize=(10, 6))\n",
        "\n",
        "    # for each spectra, plot the line\n",
        "    #for i in range(0, dims[0]):\n",
        "    ax.plot(wavelengths, wl_spectra, label=f\"Spectrum {i+1}\", linewidth=2, alpha=0.8)\n",
        "\n",
        "    # formatting\n",
        "    ax.set_xlabel('Wavelength (nm)', fontsize=12)\n",
        "    ax.set_ylabel('Intensity', fontsize=12)\n",
        "    #ax.set_ylim(0,1)\n",
        "    ax.legend(bbox_to_anchor=(1.05, 1), loc='upper left')\n",
        "    ax.grid(True, alpha=0.3)\n",
        "    plt.tight_layout()"
      ],
      "metadata": {
        "id": "-b3EIhC0wHvZ"
      },
      "execution_count": null,
      "outputs": []
    },
    {
      "cell_type": "markdown",
      "metadata": {
        "id": "s7BqcD1Q6220"
      },
      "source": [
        "### Extract and display the sample image"
      ]
    },
    {
      "cell_type": "code",
      "execution_count": null,
      "metadata": {
        "id": "TDJRmqhy6220"
      },
      "outputs": [],
      "source": [
        "with h5py.File(sample_file, 'r') as h5file:\n",
        "\n",
        "    # extract the image\n",
        "    imarray = np.array(h5file['measurement/spec_run/adj_photo'])\n",
        "\n",
        "    # create the plot\n",
        "    fig, ax = plt.subplots(figsize=(8, 6))\n",
        "    ax.imshow(imarray, cmap = 'grey')\n",
        "    ax.set_title('Sample Photo', fontsize=14, fontweight='bold')\n",
        "    ax.axis('off')"
      ]
    },
    {
      "cell_type": "markdown",
      "metadata": {
        "id": "2Qmc8y2I6220"
      },
      "source": [
        "## Part 4: Scale this to explore the whole batch"
      ]
    },
    {
      "cell_type": "markdown",
      "metadata": {
        "id": "zYj4Rtuf6220"
      },
      "source": [
        "#### Define functions for extracting the data and creating the plots"
      ]
    },
    {
      "cell_type": "code",
      "source": [
        "def display_plots_by_type(plot_type):\n",
        "    \"\"\"Display all samples for a specific plot type\"\"\"\n",
        "    with output:\n",
        "        clear_output(wait=True)\n",
        "\n",
        "        # Find all samples that have this plot type\n",
        "        samples_with_plot = []\n",
        "        batch_photos = []\n",
        "\n",
        "        for ds in datasets:\n",
        "          if ds.endswith(\"spec_run.h5\"):\n",
        "            with h5py.File(ds) as f:\n",
        "                M = f['measurement/spec_run']\n",
        "                M_keys = list(M.keys())\n",
        "                if plot_type in M_keys:\n",
        "                    samples_with_plot.append(ds)\n",
        "\n",
        "          elif ds.endswith(\".jpg\"):\n",
        "            batch_photos.append(ds)\n",
        "\n",
        "          else:\n",
        "            pass\n",
        "\n",
        "        n_samples = len(samples_with_plot)\n",
        "        fig = plt.figure(figsize=(20, 10))\n",
        "\n",
        "        # Left side: batch photo (takes up left 1/4 of figure)\n",
        "        batch_photo_ax = plt.subplot2grid((1, 4), (0, 0), colspan=1)\n",
        "\n",
        "        # Right side: individual plots (takes up right 3/4 of figure)\n",
        "        plot_cols = min(3, n_samples)\n",
        "        plot_rows = (n_samples + plot_cols - 1) // plot_cols\n",
        "\n",
        "\n",
        "        # Create subplots for individual samples\n",
        "        plot_axes = []\n",
        "        for i in range(n_samples):\n",
        "            row = i // plot_cols\n",
        "            col = i % plot_cols\n",
        "            ax = plt.subplot2grid((plot_rows, plot_cols), (row, col))\n",
        "            # Position these subplots in the right 3/4 of the figure\n",
        "            pos = ax.get_position()\n",
        "            new_pos = [pos.x0 * 0.75 + 0.25, pos.y0, pos.width * 0.75, pos.height]\n",
        "            ax.set_position(new_pos)\n",
        "            plot_axes.append(ax)\n",
        "\n",
        "\n",
        "        if batch_photos:\n",
        "          try:\n",
        "              from PIL import Image\n",
        "              # Use the first batch photo found\n",
        "              batch_img = np.array(Image.open(batch_photos[0]))\n",
        "              batch_photo_ax.imshow(batch_img)\n",
        "              batch_photo_ax.set_title('Batch Photo', fontsize=14, fontweight='bold')\n",
        "              batch_photo_ax.axis('off')\n",
        "          except Exception as e:\n",
        "              batch_photo_ax.text(0.5, 0.5, f'Error loading\\nbatch photo\\n{str(e)[:50]}...',\n",
        "                                  ha='center', va='center', transform=batch_photo_ax.transAxes,\n",
        "                                  fontsize=10)\n",
        "              batch_photo_ax.set_title('Batch Photo (Error)', fontsize=14)\n",
        "              batch_photo_ax.axis('off')\n",
        "        else:\n",
        "          batch_photo_ax.text(0.5, 0.5, 'No batch photo\\nfound',\n",
        "                            ha='center', va='center', transform=batch_photo_ax.transAxes,\n",
        "                            fontsize=12)\n",
        "          #batch_photo_ax.set_title('Batch Photo', fontsize=14, fontweight='bold')\n",
        "          batch_photo_ax.axis('off')\n",
        "\n",
        "\n",
        "        # Plot each sample\n",
        "        for i, ds_file in enumerate(samples_with_plot):\n",
        "            ax = plot_axes[i]\n",
        "            ds_name = os.path.basename(ds_file).split('_spec_run.')[0]\n",
        "\n",
        "            if plot_type == 'adj_photo':\n",
        "                # For photo data, we need to extract the image data\n",
        "                try:\n",
        "                    with h5py.File(ds_file) as f:\n",
        "                        imarray = np.array(f[f'measurement/spec_run/{plot_type}'])\n",
        "\n",
        "                    ax.imshow(imarray, cmap='grey')\n",
        "                    ax.set_title(ds_name, fontsize=11)\n",
        "                    ax.axis('off')\n",
        "\n",
        "                except Exception as e:\n",
        "                    ax.text(0.5, 0.5, f'Error displaying\\n{ds_name}',\n",
        "                           ha='center', va='center', transform=ax.transAxes)\n",
        "                    ax.set_title(f'{ds_name}', fontsize=12)\n",
        "            else:\n",
        "                try:\n",
        "                    with h5py.File(ds_file, 'r') as h5file:\n",
        "                        M = h5file[f\"measurement/spec_run\"]\n",
        "\n",
        "                        if len(M[plot_type]) > 0:\n",
        "                            wl_key = plot_type.split(\"_\")[0] + \"_wls\"\n",
        "                            spectra = np.array(M[plot_type])\n",
        "                            dims = spectra.shape\n",
        "\n",
        "                            wls = np.array(M[wl_key])\n",
        "\n",
        "                            for j in range(0, dims[0]):  # Fixed variable name conflict\n",
        "                                ax.plot(wls, spectra[j], label=f\"Spectrum {j+1}\", linewidth=2, alpha=0.8)\n",
        "\n",
        "                            ax.set_xlabel('Wavelength (nm)', fontsize=12)\n",
        "                            ax.set_ylabel('Intensity', fontsize=12)\n",
        "\n",
        "                            if 'wl' in plot_type:\n",
        "                                ax.set_ylim(0, 1)\n",
        "\n",
        "                            ax.set_title(ds_name, fontsize=11)\n",
        "\n",
        "                            # Adjust legend to fit better in smaller subplots\n",
        "                            if dims[0] > 1 and dims[0] <= 3:\n",
        "                                ax.legend(fontsize=8, loc='best')\n",
        "\n",
        "                            ax.grid(True, alpha=0.3)\n",
        "\n",
        "                except Exception as e:\n",
        "                    ax.text(0.5, 0.5, f'Error displaying\\n{ds_name}',\n",
        "                           ha='center', va='center', transform=ax.transAxes)\n",
        "                    ax.set_title(f'{ds_name}', fontsize=12)\n",
        "\n",
        "       # plt.tight_layout()\n",
        "        plt.show()"
      ],
      "metadata": {
        "id": "umw_ISDTth8e"
      },
      "execution_count": null,
      "outputs": []
    },
    {
      "cell_type": "markdown",
      "metadata": {
        "id": "qlU6hRIL6221"
      },
      "source": [
        "### Explore the data"
      ]
    },
    {
      "cell_type": "code",
      "execution_count": null,
      "metadata": {
        "id": "LSV01qss6221"
      },
      "outputs": [],
      "source": [
        "# Data Files\n",
        "datasets = []\n",
        "for ds in batch_datasets[0:3]:\n",
        "    ds_file = os.path.basename(ds['file_to_upload'])\n",
        "    local_ds_path = os.path.join(f'crucible-downloads/{ds_file}')\n",
        "    datasets.append(local_ds_path)\n",
        "\n",
        "# Plot Options\n",
        "plot_types_available = ['adj_photo', 'wl_spectra_corrected', 'pl_spectra_corrected']\n",
        "\n",
        "\n",
        "# Create the interactive widget\n",
        "plot_type_dropdown = widgets.Dropdown(\n",
        "    options=plot_types_available,\n",
        "    value=plot_types_available[0] if plot_types_available else None,\n",
        "    description='Plot Type:',\n",
        "    style={'description_width': 'initial'}\n",
        ")\n",
        "\n",
        "output = widgets.Output()\n",
        "\n",
        "def on_plot_type_change(change):\n",
        "    display_plots_by_type(change['new'])\n",
        "\n",
        "plot_type_dropdown.observe(on_plot_type_change, names='value')\n",
        "\n",
        "display(plot_type_dropdown)\n",
        "display(output)\n",
        "\n",
        "\n",
        "display_plots_by_type(plot_types_available[0])"
      ]
    },
    {
      "cell_type": "markdown",
      "metadata": {
        "id": "DZn5ieGVUsg7"
      },
      "source": [
        "###  Part 4: Play around and see what else you can do with the API"
      ]
    },
    {
      "cell_type": "markdown",
      "metadata": {
        "id": "vjcKcCRPUsg7"
      },
      "source": [
        "#### Add a project you are working on"
      ]
    },
    {
      "cell_type": "code",
      "execution_count": null,
      "metadata": {
        "id": "-uMDP1vGUsg7"
      },
      "outputs": [],
      "source": [
        "help(client.add_project)"
      ]
    },
    {
      "cell_type": "code",
      "execution_count": null,
      "metadata": {
        "id": "6QmoASXYUsg7"
      },
      "outputs": [],
      "source": [
        "# Change the project ID to\n",
        "client.add_project(project_info = {\"project_id\":\"\",\n",
        "                                   \"organization\":\"\",\n",
        "                                   \"project_lead_email\":\"\"})"
      ]
    },
    {
      "cell_type": "markdown",
      "metadata": {
        "id": "w6Fkb0_1Usg7"
      },
      "source": [
        "#### Add a sample"
      ]
    },
    {
      "cell_type": "code",
      "source": [
        "help(client.add_sample)"
      ],
      "metadata": {
        "id": "KnV_NvsgNsMl"
      },
      "execution_count": null,
      "outputs": []
    },
    {
      "cell_type": "code",
      "execution_count": null,
      "metadata": {
        "id": "v9L-4rdo8X8q"
      },
      "outputs": [],
      "source": [
        "!pip install mfid\n",
        "import mfid\n",
        "\n",
        "crucible_id = mfid.mfid()[0]\n",
        "sample = client.add_sample(unique_id = crucible_id, sample_name = \"\")"
      ]
    },
    {
      "cell_type": "markdown",
      "metadata": {
        "id": "THLhi7sd8a4X"
      },
      "source": [
        "#### Add a dataset from your google drive"
      ]
    },
    {
      "cell_type": "code",
      "execution_count": null,
      "metadata": {
        "id": "kngvnFsu8gvw"
      },
      "outputs": [],
      "source": [
        "# mount your google drive\n",
        "from google.colab import drive\n",
        "drive.mount('/content/drive')"
      ]
    },
    {
      "cell_type": "code",
      "execution_count": null,
      "metadata": {
        "id": "FJOrjY-nUsg7"
      },
      "outputs": [],
      "source": [
        "# choose a file\n",
        "your_file_path = \"sample_data/california_housing_train.csv\"\n",
        "\n",
        "# define some metadata you want to add to this dataset\n",
        "metadata_to_add = {'comments': 'this is a fake dataset',\n",
        "                   'weather': 'sunny',\n",
        "                   'iphone_version': 11\n",
        "                  }"
      ]
    },
    {
      "cell_type": "code",
      "execution_count": null,
      "metadata": {
        "id": "tZ1xOPQ0Usg7"
      },
      "outputs": [],
      "source": [
        "# fill out the fields and send the data to Crucible\n",
        "results = client.build_new_dataset_from_file(files_to_upload = [your_file_path],\n",
        "                                        dataset_name = None, # this will default to the file name\n",
        "                                        project_id = None, # this will default to unknown\n",
        "                                        instrument_name = None, # default is null\n",
        "                                        measurement = None, # default is null\n",
        "                                        session_name = None, # default is null\n",
        "                                        source_folder = None, # this will default to the base directory\n",
        "                                        scientific_metadata = metadata_to_add, # this is the dictionary you defined above\n",
        "                                        keywords = [], # list any keywords you want to be able to search on\n",
        "                                        ingestor = 'CrucibleDatasetIngestor', # use a generic ingestor\n",
        "                                        verbose = False,\n",
        "                                        wait_for_ingestion_response = True)\n",
        "\n",
        "ds = results['created_record']\n",
        "pprint.pprint(ds)"
      ]
    },
    {
      "cell_type": "code",
      "source": [
        "help(CrucibleClient)"
      ],
      "metadata": {
        "id": "H2hIXWeyTVwF"
      },
      "execution_count": null,
      "outputs": []
    },
    {
      "cell_type": "markdown",
      "metadata": {
        "id": "0fIC3B0TUsg7"
      },
      "source": [
        "#### Associate this dataset with the sample you created"
      ]
    },
    {
      "cell_type": "code",
      "execution_count": null,
      "metadata": {
        "id": "a_pubuDVUsg7"
      },
      "outputs": [],
      "source": [
        "# define the dataset and sample\n",
        "dataset_id = ds['unique_id']\n",
        "sample_id = sample['unique_id']\n",
        "\n",
        "# link them!\n",
        "client.add_dataset_to_sample(dataset_id = dataset_id, sample_id = sample_id)"
      ]
    },
    {
      "cell_type": "code",
      "execution_count": null,
      "metadata": {
        "id": "m5UttaWSUsg8"
      },
      "outputs": [],
      "source": [
        "# see all the datasets associated with your sample\n",
        "client.list_datasets(sample_id = sample_id)"
      ]
    }
  ],
  "metadata": {
    "colab": {
      "collapsed_sections": [
        "Ajyxgack6P7s",
        "8CLniWAa622z",
        "S8pWckmd6220",
        "0gyEdMmF6220",
        "XMhaYekF6220",
        "s7BqcD1Q6220",
        "DZn5ieGVUsg7"
      ],
      "provenance": [],
      "include_colab_link": true
    },
    "kernelspec": {
      "display_name": "Python 3 (ipykernel)",
      "language": "python",
      "name": "python3"
    },
    "language_info": {
      "codemirror_mode": {
        "name": "ipython",
        "version": 3
      },
      "file_extension": ".py",
      "mimetype": "text/x-python",
      "name": "python",
      "nbconvert_exporter": "python",
      "pygments_lexer": "ipython3",
      "version": "3.12.6"
    },
    "widgets": {
      "application/vnd.jupyter.widget-state+json": {
        "ba86136a0d22404abd6ce5b3b6772ef0": {
          "model_module": "@jupyter-widgets/controls",
          "model_name": "VBoxModel",
          "model_module_version": "1.5.0",
          "state": {
            "_dom_classes": [],
            "_model_module": "@jupyter-widgets/controls",
            "_model_module_version": "1.5.0",
            "_model_name": "VBoxModel",
            "_view_count": null,
            "_view_module": "@jupyter-widgets/controls",
            "_view_module_version": "1.5.0",
            "_view_name": "VBoxView",
            "box_style": "",
            "children": [
              "IPY_MODEL_a8bbc68a32b4475b8df6140ed8fd7fae",
              "IPY_MODEL_cdc6c875fb784eefa0d36086bc31b502",
              "IPY_MODEL_fb3dbe49e41b4707bdfdce9d2c40a0f5",
              "IPY_MODEL_87169c2dc5aa4cf1a3160cb38a381f81"
            ],
            "layout": "IPY_MODEL_5f526d9e8fff44e08464ef7a2ea8f0ef"
          }
        },
        "a8bbc68a32b4475b8df6140ed8fd7fae": {
          "model_module": "@jupyter-widgets/controls",
          "model_name": "HTMLModel",
          "model_module_version": "1.5.0",
          "state": {
            "_dom_classes": [],
            "_model_module": "@jupyter-widgets/controls",
            "_model_module_version": "1.5.0",
            "_model_name": "HTMLModel",
            "_view_count": null,
            "_view_module": "@jupyter-widgets/controls",
            "_view_module_version": "1.5.0",
            "_view_name": "HTMLView",
            "description": "",
            "description_tooltip": null,
            "layout": "IPY_MODEL_e24cec5084f248f599a70ec7b5e5ad97",
            "placeholder": "​",
            "style": "IPY_MODEL_9245702a4e8f4169b849defe2fa48008",
            "value": "<b>Enter your API key:</b>"
          }
        },
        "cdc6c875fb784eefa0d36086bc31b502": {
          "model_module": "@jupyter-widgets/controls",
          "model_name": "PasswordModel",
          "model_module_version": "1.5.0",
          "state": {
            "_dom_classes": [],
            "_model_module": "@jupyter-widgets/controls",
            "_model_module_version": "1.5.0",
            "_model_name": "PasswordModel",
            "_view_count": null,
            "_view_module": "@jupyter-widgets/controls",
            "_view_module_version": "1.5.0",
            "_view_name": "PasswordView",
            "continuous_update": true,
            "description": "",
            "description_tooltip": null,
            "disabled": false,
            "layout": "IPY_MODEL_bc55a18aec9e4ef9a087f7442766cb27",
            "placeholder": "Enter secret here",
            "style": "IPY_MODEL_969f352264ac4dbf85697538633f87b0",
            "value": ""
          }
        },
        "fb3dbe49e41b4707bdfdce9d2c40a0f5": {
          "model_module": "@jupyter-widgets/controls",
          "model_name": "ButtonModel",
          "model_module_version": "1.5.0",
          "state": {
            "_dom_classes": [],
            "_model_module": "@jupyter-widgets/controls",
            "_model_module_version": "1.5.0",
            "_model_name": "ButtonModel",
            "_view_count": null,
            "_view_module": "@jupyter-widgets/controls",
            "_view_module_version": "1.5.0",
            "_view_name": "ButtonView",
            "button_style": "success",
            "description": "Store Secret",
            "disabled": false,
            "icon": "lock",
            "layout": "IPY_MODEL_523d95129bf94213bce638739badccea",
            "style": "IPY_MODEL_f97f505af179433a8ae387a4df0cb554",
            "tooltip": ""
          }
        },
        "87169c2dc5aa4cf1a3160cb38a381f81": {
          "model_module": "@jupyter-widgets/output",
          "model_name": "OutputModel",
          "model_module_version": "1.0.0",
          "state": {
            "_dom_classes": [],
            "_model_module": "@jupyter-widgets/output",
            "_model_module_version": "1.0.0",
            "_model_name": "OutputModel",
            "_view_count": null,
            "_view_module": "@jupyter-widgets/output",
            "_view_module_version": "1.0.0",
            "_view_name": "OutputView",
            "layout": "IPY_MODEL_db466725d58740678ca38b386297008e",
            "msg_id": "",
            "outputs": [
              {
                "output_type": "stream",
                "name": "stdout",
                "text": [
                  "✓ Secret stored securely\n"
                ]
              }
            ]
          }
        },
        "5f526d9e8fff44e08464ef7a2ea8f0ef": {
          "model_module": "@jupyter-widgets/base",
          "model_name": "LayoutModel",
          "model_module_version": "1.2.0",
          "state": {
            "_model_module": "@jupyter-widgets/base",
            "_model_module_version": "1.2.0",
            "_model_name": "LayoutModel",
            "_view_count": null,
            "_view_module": "@jupyter-widgets/base",
            "_view_module_version": "1.2.0",
            "_view_name": "LayoutView",
            "align_content": null,
            "align_items": null,
            "align_self": null,
            "border": null,
            "bottom": null,
            "display": null,
            "flex": null,
            "flex_flow": null,
            "grid_area": null,
            "grid_auto_columns": null,
            "grid_auto_flow": null,
            "grid_auto_rows": null,
            "grid_column": null,
            "grid_gap": null,
            "grid_row": null,
            "grid_template_areas": null,
            "grid_template_columns": null,
            "grid_template_rows": null,
            "height": null,
            "justify_content": null,
            "justify_items": null,
            "left": null,
            "margin": null,
            "max_height": null,
            "max_width": null,
            "min_height": null,
            "min_width": null,
            "object_fit": null,
            "object_position": null,
            "order": null,
            "overflow": null,
            "overflow_x": null,
            "overflow_y": null,
            "padding": null,
            "right": null,
            "top": null,
            "visibility": null,
            "width": null
          }
        },
        "e24cec5084f248f599a70ec7b5e5ad97": {
          "model_module": "@jupyter-widgets/base",
          "model_name": "LayoutModel",
          "model_module_version": "1.2.0",
          "state": {
            "_model_module": "@jupyter-widgets/base",
            "_model_module_version": "1.2.0",
            "_model_name": "LayoutModel",
            "_view_count": null,
            "_view_module": "@jupyter-widgets/base",
            "_view_module_version": "1.2.0",
            "_view_name": "LayoutView",
            "align_content": null,
            "align_items": null,
            "align_self": null,
            "border": null,
            "bottom": null,
            "display": null,
            "flex": null,
            "flex_flow": null,
            "grid_area": null,
            "grid_auto_columns": null,
            "grid_auto_flow": null,
            "grid_auto_rows": null,
            "grid_column": null,
            "grid_gap": null,
            "grid_row": null,
            "grid_template_areas": null,
            "grid_template_columns": null,
            "grid_template_rows": null,
            "height": null,
            "justify_content": null,
            "justify_items": null,
            "left": null,
            "margin": null,
            "max_height": null,
            "max_width": null,
            "min_height": null,
            "min_width": null,
            "object_fit": null,
            "object_position": null,
            "order": null,
            "overflow": null,
            "overflow_x": null,
            "overflow_y": null,
            "padding": null,
            "right": null,
            "top": null,
            "visibility": null,
            "width": null
          }
        },
        "9245702a4e8f4169b849defe2fa48008": {
          "model_module": "@jupyter-widgets/controls",
          "model_name": "DescriptionStyleModel",
          "model_module_version": "1.5.0",
          "state": {
            "_model_module": "@jupyter-widgets/controls",
            "_model_module_version": "1.5.0",
            "_model_name": "DescriptionStyleModel",
            "_view_count": null,
            "_view_module": "@jupyter-widgets/base",
            "_view_module_version": "1.2.0",
            "_view_name": "StyleView",
            "description_width": ""
          }
        },
        "bc55a18aec9e4ef9a087f7442766cb27": {
          "model_module": "@jupyter-widgets/base",
          "model_name": "LayoutModel",
          "model_module_version": "1.2.0",
          "state": {
            "_model_module": "@jupyter-widgets/base",
            "_model_module_version": "1.2.0",
            "_model_name": "LayoutModel",
            "_view_count": null,
            "_view_module": "@jupyter-widgets/base",
            "_view_module_version": "1.2.0",
            "_view_name": "LayoutView",
            "align_content": null,
            "align_items": null,
            "align_self": null,
            "border": null,
            "bottom": null,
            "display": "none",
            "flex": null,
            "flex_flow": null,
            "grid_area": null,
            "grid_auto_columns": null,
            "grid_auto_flow": null,
            "grid_auto_rows": null,
            "grid_column": null,
            "grid_gap": null,
            "grid_row": null,
            "grid_template_areas": null,
            "grid_template_columns": null,
            "grid_template_rows": null,
            "height": null,
            "justify_content": null,
            "justify_items": null,
            "left": null,
            "margin": null,
            "max_height": null,
            "max_width": null,
            "min_height": null,
            "min_width": null,
            "object_fit": null,
            "object_position": null,
            "order": null,
            "overflow": null,
            "overflow_x": null,
            "overflow_y": null,
            "padding": null,
            "right": null,
            "top": null,
            "visibility": null,
            "width": null
          }
        },
        "969f352264ac4dbf85697538633f87b0": {
          "model_module": "@jupyter-widgets/controls",
          "model_name": "DescriptionStyleModel",
          "model_module_version": "1.5.0",
          "state": {
            "_model_module": "@jupyter-widgets/controls",
            "_model_module_version": "1.5.0",
            "_model_name": "DescriptionStyleModel",
            "_view_count": null,
            "_view_module": "@jupyter-widgets/base",
            "_view_module_version": "1.2.0",
            "_view_name": "StyleView",
            "description_width": "initial"
          }
        },
        "523d95129bf94213bce638739badccea": {
          "model_module": "@jupyter-widgets/base",
          "model_name": "LayoutModel",
          "model_module_version": "1.2.0",
          "state": {
            "_model_module": "@jupyter-widgets/base",
            "_model_module_version": "1.2.0",
            "_model_name": "LayoutModel",
            "_view_count": null,
            "_view_module": "@jupyter-widgets/base",
            "_view_module_version": "1.2.0",
            "_view_name": "LayoutView",
            "align_content": null,
            "align_items": null,
            "align_self": null,
            "border": null,
            "bottom": null,
            "display": "none",
            "flex": null,
            "flex_flow": null,
            "grid_area": null,
            "grid_auto_columns": null,
            "grid_auto_flow": null,
            "grid_auto_rows": null,
            "grid_column": null,
            "grid_gap": null,
            "grid_row": null,
            "grid_template_areas": null,
            "grid_template_columns": null,
            "grid_template_rows": null,
            "height": null,
            "justify_content": null,
            "justify_items": null,
            "left": null,
            "margin": null,
            "max_height": null,
            "max_width": null,
            "min_height": null,
            "min_width": null,
            "object_fit": null,
            "object_position": null,
            "order": null,
            "overflow": null,
            "overflow_x": null,
            "overflow_y": null,
            "padding": null,
            "right": null,
            "top": null,
            "visibility": null,
            "width": null
          }
        },
        "f97f505af179433a8ae387a4df0cb554": {
          "model_module": "@jupyter-widgets/controls",
          "model_name": "ButtonStyleModel",
          "model_module_version": "1.5.0",
          "state": {
            "_model_module": "@jupyter-widgets/controls",
            "_model_module_version": "1.5.0",
            "_model_name": "ButtonStyleModel",
            "_view_count": null,
            "_view_module": "@jupyter-widgets/base",
            "_view_module_version": "1.2.0",
            "_view_name": "StyleView",
            "button_color": null,
            "font_weight": ""
          }
        },
        "db466725d58740678ca38b386297008e": {
          "model_module": "@jupyter-widgets/base",
          "model_name": "LayoutModel",
          "model_module_version": "1.2.0",
          "state": {
            "_model_module": "@jupyter-widgets/base",
            "_model_module_version": "1.2.0",
            "_model_name": "LayoutModel",
            "_view_count": null,
            "_view_module": "@jupyter-widgets/base",
            "_view_module_version": "1.2.0",
            "_view_name": "LayoutView",
            "align_content": null,
            "align_items": null,
            "align_self": null,
            "border": null,
            "bottom": null,
            "display": null,
            "flex": null,
            "flex_flow": null,
            "grid_area": null,
            "grid_auto_columns": null,
            "grid_auto_flow": null,
            "grid_auto_rows": null,
            "grid_column": null,
            "grid_gap": null,
            "grid_row": null,
            "grid_template_areas": null,
            "grid_template_columns": null,
            "grid_template_rows": null,
            "height": null,
            "justify_content": null,
            "justify_items": null,
            "left": null,
            "margin": null,
            "max_height": null,
            "max_width": null,
            "min_height": null,
            "min_width": null,
            "object_fit": null,
            "object_position": null,
            "order": null,
            "overflow": null,
            "overflow_x": null,
            "overflow_y": null,
            "padding": null,
            "right": null,
            "top": null,
            "visibility": null,
            "width": null
          }
        }
      }
    }
  },
  "nbformat": 4,
  "nbformat_minor": 0
}